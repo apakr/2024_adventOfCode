{
 "cells": [
  {
   "cell_type": "code",
   "execution_count": 1,
   "metadata": {},
   "outputs": [],
   "source": [
    "# started 1:22pm"
   ]
  },
  {
   "cell_type": "code",
   "execution_count": 2,
   "metadata": {},
   "outputs": [],
   "source": [
    "data = open(\"day_two_data.csv\",mode = 'r')"
   ]
  },
  {
   "cell_type": "code",
   "execution_count": null,
   "metadata": {},
   "outputs": [
    {
     "name": "stdout",
     "output_type": "stream",
     "text": [
      "58 59 62 63 64 63\n",
      " \n"
     ]
    }
   ],
   "source": [
    "a = data.readline() + \" \"\n",
    "print(a)"
   ]
  },
  {
   "cell_type": "code",
   "execution_count": 104,
   "metadata": {},
   "outputs": [
    {
     "name": "stdout",
     "output_type": "stream",
     "text": [
      "[14, 16, 19, 22, 23, 24, 28, 28]\n"
     ]
    }
   ],
   "source": [
    "line = []\n",
    "num = \"\"\n",
    "for i in a:\n",
    "    if i != \" \":\n",
    "        num += i\n",
    "    else:\n",
    "        line.append(int(num))\n",
    "        num = \"\"\n",
    "print(line)"
   ]
  },
  {
   "cell_type": "code",
   "execution_count": 47,
   "metadata": {},
   "outputs": [
    {
     "name": "stdout",
     "output_type": "stream",
     "text": [
      "[26, 29, 32, 34, 35, 39]\n"
     ]
    }
   ],
   "source": [
    "# i could have also just done the following:\n",
    "a # which is a str of numbers sperated by white space\n",
    "a_as_list = a.split()\n",
    "a_as_num_list = [int(x) for x in a_as_list]\n",
    "print(a_as_num_list)"
   ]
  },
  {
   "cell_type": "code",
   "execution_count": 3,
   "metadata": {},
   "outputs": [],
   "source": [
    "def get_next_line(data_line):\n",
    "    # a = data.readline() + \" \"\n",
    "    line = []\n",
    "    num = \"\"\n",
    "    for i in data_line:\n",
    "        if i != \" \":\n",
    "            num += i\n",
    "        else:\n",
    "            line.append(int(num))\n",
    "            num = \"\"\n",
    "    return(line)"
   ]
  },
  {
   "cell_type": "code",
   "execution_count": 4,
   "metadata": {},
   "outputs": [],
   "source": [
    "def convert_to_diff(next_report):\n",
    "    for i in range(len(next_report),1, -1): # convert the report into a str of differences from last entry\n",
    "        i -= 1\n",
    "        next_report[i] = next_report[i] - next_report[i-1]\n",
    "    next_report[0] = 0\n",
    "    return(next_report)"
   ]
  },
  {
   "cell_type": "code",
   "execution_count": 139,
   "metadata": {},
   "outputs": [
    {
     "data": {
      "text/plain": [
       "[89, 92, 95, 93, 94, 97, 98]"
      ]
     },
     "execution_count": 139,
     "metadata": {},
     "output_type": "execute_result"
    }
   ],
   "source": [
    "next_report = get_next_line(data)\n",
    "next_report"
   ]
  },
  {
   "cell_type": "code",
   "execution_count": 140,
   "metadata": {},
   "outputs": [
    {
     "data": {
      "text/plain": [
       "[0, 3, 3, -2, 1, 3, 1]"
      ]
     },
     "execution_count": 140,
     "metadata": {},
     "output_type": "execute_result"
    }
   ],
   "source": [
    "next_report = convert_to_diff(next_report)\n",
    "next_report"
   ]
  },
  {
   "cell_type": "code",
   "execution_count": 132,
   "metadata": {},
   "outputs": [],
   "source": [
    "tot_unsafe = 0"
   ]
  },
  {
   "cell_type": "code",
   "execution_count": 143,
   "metadata": {},
   "outputs": [
    {
     "name": "stdout",
     "output_type": "stream",
     "text": [
      "3\n",
      "3\n",
      "-2\n"
     ]
    }
   ],
   "source": [
    "for i in range(1,len(next_report)): # from 1 to length of line\n",
    "    print(next_report[i])\n",
    "    if 0 < abs(next_report[i]) < 4:\n",
    "        if (next_report[1]/abs(next_report[1]) == next_report[i]/abs(next_report[i])):\n",
    "            continue\n",
    "        else:\n",
    "            tot_unsafe += 1\n",
    "            break\n",
    "    else:\n",
    "        tot_unsafe += 1\n",
    "        break"
   ]
  },
  {
   "cell_type": "code",
   "execution_count": 144,
   "metadata": {},
   "outputs": [
    {
     "data": {
      "text/plain": [
       "3"
      ]
     },
     "execution_count": 144,
     "metadata": {},
     "output_type": "execute_result"
    }
   ],
   "source": [
    "tot_unsafe"
   ]
  },
  {
   "cell_type": "code",
   "execution_count": 5,
   "metadata": {},
   "outputs": [],
   "source": [
    "def check_safety(next_report):\n",
    "    unsafe = 0 \n",
    "    for i in range(1,len(next_report)): # from 1 to length of line\n",
    "        if 1 <= abs(next_report[i]) <= 3:\n",
    "            if (next_report[1]/abs(next_report[1]) != next_report[i]/abs(next_report[i])):\n",
    "                unsafe = 1\n",
    "                print(next_report)\n",
    "                break\n",
    "                # continue\n",
    "            # else:\n",
    "            #     unsafe = 1\n",
    "            #     break\n",
    "        else:\n",
    "            unsafe = 1\n",
    "            next_report = []\n",
    "            break\n",
    "    return unsafe, # returns 0 if safe, 1 if unsafe"
   ]
  },
  {
   "cell_type": "code",
   "execution_count": 6,
   "metadata": {},
   "outputs": [
    {
     "ename": "TypeError",
     "evalue": "unsupported operand type(s) for +=: 'int' and 'tuple'",
     "output_type": "error",
     "traceback": [
      "\u001b[1;31m---------------------------------------------------------------------------\u001b[0m",
      "\u001b[1;31mTypeError\u001b[0m                                 Traceback (most recent call last)",
      "Cell \u001b[1;32mIn[6], line 10\u001b[0m\n\u001b[0;32m      8\u001b[0m     next_report \u001b[38;5;241m=\u001b[39m get_next_line(dataline) \u001b[38;5;66;03m# turns text line into a serperated list of numbers\u001b[39;00m\n\u001b[0;32m      9\u001b[0m     next_report \u001b[38;5;241m=\u001b[39m convert_to_diff(next_report) \u001b[38;5;66;03m# converts those numbers into differences from the last number\u001b[39;00m\n\u001b[1;32m---> 10\u001b[0m     tot_unsafe \u001b[38;5;241m+\u001b[39m\u001b[38;5;241m=\u001b[39m check_safety(next_report) \u001b[38;5;66;03m# checks if those differences deem the report unsafe and adds another number to all unsafe\u001b[39;00m\n\u001b[0;32m     11\u001b[0m \u001b[38;5;28mprint\u001b[39m(\u001b[38;5;124mf\u001b[39m\u001b[38;5;124m\"\u001b[39m\u001b[38;5;124mSafe: \u001b[39m\u001b[38;5;132;01m{\u001b[39;00mtot\u001b[38;5;241m-\u001b[39mtot_unsafe\u001b[38;5;132;01m}\u001b[39;00m\u001b[38;5;124m\"\u001b[39m)\n\u001b[0;32m     12\u001b[0m \u001b[38;5;28mprint\u001b[39m(\u001b[38;5;124mf\u001b[39m\u001b[38;5;124m\"\u001b[39m\u001b[38;5;124mUnsafe: \u001b[39m\u001b[38;5;132;01m{\u001b[39;00mtot_unsafe\u001b[38;5;132;01m}\u001b[39;00m\u001b[38;5;124m\"\u001b[39m)\n",
      "\u001b[1;31mTypeError\u001b[0m: unsupported operand type(s) for +=: 'int' and 'tuple'"
     ]
    }
   ],
   "source": [
    "# final operation\n",
    "with open(\"day_two_data.csv\",mode = 'r') as data:\n",
    "    tot_unsafe = 0\n",
    "    tot = 0\n",
    "    list_of_unsafe = []\n",
    "    for dataline in data: # gets next line of text data (next report)\n",
    "        tot += 1\n",
    "        next_report = get_next_line(dataline) # turns text line into a serperated list of numbers\n",
    "        next_report = convert_to_diff(next_report) # converts those numbers into differences from the last number\n",
    "        tot_unsafe += check_safety(next_report) # checks if those differences deem the report unsafe and adds another number to all unsafe\n",
    "    print(f\"Safe: {tot-tot_unsafe}\")\n",
    "    print(f\"Unsafe: {tot_unsafe}\")\n"
   ]
  },
  {
   "cell_type": "code",
   "execution_count": null,
   "metadata": {},
   "outputs": [],
   "source": [
    "# kept going to till 3:02, folded and used code from someone I found on reddit doing this i got an answer of 402 and it was correct. \n",
    "# gonna try and rewrite my code to get 402. "
   ]
  },
  {
   "cell_type": "code",
   "execution_count": null,
   "metadata": {},
   "outputs": [],
   "source": [
    "# ok 3:25 I gave up on day 2. spent 2 hours on it and couldnt get it to work. didnt do part 2."
   ]
  }
 ],
 "metadata": {
  "kernelspec": {
   "display_name": "pydata-book",
   "language": "python",
   "name": "python3"
  },
  "language_info": {
   "codemirror_mode": {
    "name": "ipython",
    "version": 3
   },
   "file_extension": ".py",
   "mimetype": "text/x-python",
   "name": "python",
   "nbconvert_exporter": "python",
   "pygments_lexer": "ipython3",
   "version": "3.10.10"
  }
 },
 "nbformat": 4,
 "nbformat_minor": 2
}
